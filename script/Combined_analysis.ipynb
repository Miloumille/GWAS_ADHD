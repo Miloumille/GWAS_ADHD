{
 "cells": [
  {
   "cell_type": "code",
   "execution_count": 30,
   "id": "f84b8e0c-4f2e-4558-bdb9-06544b2e4b92",
   "metadata": {},
   "outputs": [],
   "source": [
    "import matplotlib.pyplot as plt\n",
    "import seaborn as sns\n",
    "import os\n",
    "import pandas as pd\n",
    "import glob\n",
    "import numpy as np\n",
    "from matplotlib.colors import ListedColormap"
   ]
  },
  {
   "cell_type": "markdown",
   "id": "853ee653-bd8b-44f4-9161-a92ee1ee13a4",
   "metadata": {},
   "source": [
    "# Compare iHS and Tajima on continents"
   ]
  },
  {
   "cell_type": "code",
   "execution_count": 4,
   "id": "3d6f79a9-e9fe-4f76-bea7-66999952e4dd",
   "metadata": {},
   "outputs": [],
   "source": [
    "population_groups = {\n",
    "    \"AFR\": [\"ACB\", \"ASW\", \"ESN\", \"GWD\", \"LWK\", \"MSL\", \"YRI\"],\n",
    "    \"AMR\": [\"CLM\", \"MXL\", \"PEL\", \"PUR\"],\n",
    "    \"EAS\": [\"CDX\", \"CHB\", \"CHS\", \"JPT\", \"KHV\"],\n",
    "    \"EUR\": [\"CEU\", \"FIN\", \"GBR\", \"IBS\", \"TSI\"],\n",
    "    \"SAS\": [\"BEB\", \"GIH\", \"ITU\", \"PJL\", \"STU\"]\n",
    "}"
   ]
  },
  {
   "cell_type": "code",
   "execution_count": 5,
   "id": "105e7f07-9fbb-4926-856c-03f52797db4d",
   "metadata": {
    "scrolled": true
   },
   "outputs": [],
   "source": [
    "rs_ids = pd.read_csv('../data/snp_coordinates_grch37.tsv', sep='\\t')\n",
    "iHS_scored = pd.DataFrame(columns=['continent', 'country', 'iHS_score', 'chromosome', 'rsID'])\n",
    "\n",
    "rows = []\n",
    "for continent, populations in population_groups.items():\n",
    "    for pop in populations:\n",
    "        for _, row in rs_ids.iterrows():\n",
    "            rsID = row['rsID']\n",
    "            chromosome = row['Chromosome']\n",
    "            \n",
    "            path = f\"/Users/emilevancauwenberghe/Documents/LargeFiles/Database/ihs_hapbin_globalCM/{pop}/hapbin_globalCM/{pop}.chr{chromosome}.phase3_shapeit2_mvncall_integrated_v5a.20130502.genotypes.noCNV.snv.modAncDer.bcfCheck.hapbin.ihs.txt\"\n",
    "            ihs_data = pd.read_csv(path, sep='\\t')\n",
    "            match = ihs_data.loc[ihs_data['Location'] == rsID, 'iHS'].values\n",
    "            iHS_score = match[0] if len(match) > 0 else None\n",
    "            rows.append({\n",
    "                'continent': continent,\n",
    "                'country': pop,\n",
    "                'iHS_score': iHS_score,\n",
    "                'chromosome': chromosome,\n",
    "                'rsID': rsID\n",
    "            })\n",
    "iHS_scored = pd.DataFrame(rows)"
   ]
  },
  {
   "cell_type": "markdown",
   "id": "ffe88a25-69c3-4ee6-b1ba-7b3d7c9354f9",
   "metadata": {},
   "source": [
    "## Grid plot of the iHS scores"
   ]
  },
  {
   "cell_type": "code",
   "execution_count": 40,
   "id": "15fd2516-a188-4891-a669-9672c0101a9e",
   "metadata": {},
   "outputs": [],
   "source": [
    "pivot = iHS_scored.pivot(index='country', columns='rsID', values='iHS_score')\n",
    "\n",
    "base_cmap = sns.color_palette(\"vlag\", as_cmap=True)\n",
    "cmap = ListedColormap(base_cmap(np.linspace(0, 1, 256)))\n",
    "cmap.set_bad(color='gray')\n",
    "\n",
    "fig_width = max(10, pivot.shape[1] * 0.4)\n",
    "fig_height = max(6, pivot.shape[0] * 0.4)\n",
    "plt.figure(figsize=(fig_width, fig_height))\n",
    "\n",
    "ax = sns.heatmap(pivot, cmap=cmap, cbar=True, linewidths=0.5, linecolor='gray')\n",
    "\n",
    "ax.set_yticklabels(ax.get_yticklabels(), rotation=0)\n",
    "\n",
    "plt.xlabel('rsID')\n",
    "plt.ylabel('Population')\n",
    "plt.title('iHS Score par Population et rsID')\n",
    "plt.tight_layout()\n",
    "\n",
    "plt.savefig(\"../results/ihs_heatmap.png\", dpi=300, bbox_inches='tight')\n",
    "plt.close()"
   ]
  },
  {
   "cell_type": "code",
   "execution_count": 46,
   "id": "95c27fc1-f77d-406e-be28-e18758e9bab9",
   "metadata": {},
   "outputs": [
    {
     "data": {
      "text/html": [
       "<div>\n",
       "<style scoped>\n",
       "    .dataframe tbody tr th:only-of-type {\n",
       "        vertical-align: middle;\n",
       "    }\n",
       "\n",
       "    .dataframe tbody tr th {\n",
       "        vertical-align: top;\n",
       "    }\n",
       "\n",
       "    .dataframe thead th {\n",
       "        text-align: right;\n",
       "    }\n",
       "</style>\n",
       "<table border=\"1\" class=\"dataframe\">\n",
       "  <thead>\n",
       "    <tr style=\"text-align: right;\">\n",
       "      <th></th>\n",
       "      <th>rsID</th>\n",
       "      <th>continent</th>\n",
       "      <th>nan_count</th>\n",
       "      <th>iHS_std</th>\n",
       "      <th>iHS_mean</th>\n",
       "    </tr>\n",
       "  </thead>\n",
       "  <tbody>\n",
       "    <tr>\n",
       "      <th>0</th>\n",
       "      <td>rs10875612</td>\n",
       "      <td>AFR</td>\n",
       "      <td>0</td>\n",
       "      <td>NaN</td>\n",
       "      <td>-0.838705</td>\n",
       "    </tr>\n",
       "    <tr>\n",
       "      <th>1</th>\n",
       "      <td>rs10875612</td>\n",
       "      <td>AMR</td>\n",
       "      <td>0</td>\n",
       "      <td>NaN</td>\n",
       "      <td>-1.248393</td>\n",
       "    </tr>\n",
       "    <tr>\n",
       "      <th>2</th>\n",
       "      <td>rs10875612</td>\n",
       "      <td>EAS</td>\n",
       "      <td>0</td>\n",
       "      <td>NaN</td>\n",
       "      <td>-0.551481</td>\n",
       "    </tr>\n",
       "    <tr>\n",
       "      <th>3</th>\n",
       "      <td>rs10875612</td>\n",
       "      <td>EUR</td>\n",
       "      <td>0</td>\n",
       "      <td>NaN</td>\n",
       "      <td>-0.801984</td>\n",
       "    </tr>\n",
       "    <tr>\n",
       "      <th>4</th>\n",
       "      <td>rs10875612</td>\n",
       "      <td>SAS</td>\n",
       "      <td>0</td>\n",
       "      <td>NaN</td>\n",
       "      <td>-0.110292</td>\n",
       "    </tr>\n",
       "    <tr>\n",
       "      <th>...</th>\n",
       "      <td>...</td>\n",
       "      <td>...</td>\n",
       "      <td>...</td>\n",
       "      <td>...</td>\n",
       "      <td>...</td>\n",
       "    </tr>\n",
       "    <tr>\n",
       "      <th>130</th>\n",
       "      <td>rs9969232</td>\n",
       "      <td>AFR</td>\n",
       "      <td>0</td>\n",
       "      <td>NaN</td>\n",
       "      <td>-4.337790</td>\n",
       "    </tr>\n",
       "    <tr>\n",
       "      <th>131</th>\n",
       "      <td>rs9969232</td>\n",
       "      <td>AMR</td>\n",
       "      <td>0</td>\n",
       "      <td>NaN</td>\n",
       "      <td>-1.635387</td>\n",
       "    </tr>\n",
       "    <tr>\n",
       "      <th>132</th>\n",
       "      <td>rs9969232</td>\n",
       "      <td>EAS</td>\n",
       "      <td>0</td>\n",
       "      <td>NaN</td>\n",
       "      <td>-2.718750</td>\n",
       "    </tr>\n",
       "    <tr>\n",
       "      <th>133</th>\n",
       "      <td>rs9969232</td>\n",
       "      <td>EUR</td>\n",
       "      <td>0</td>\n",
       "      <td>NaN</td>\n",
       "      <td>-0.572404</td>\n",
       "    </tr>\n",
       "    <tr>\n",
       "      <th>134</th>\n",
       "      <td>rs9969232</td>\n",
       "      <td>SAS</td>\n",
       "      <td>0</td>\n",
       "      <td>NaN</td>\n",
       "      <td>-2.241014</td>\n",
       "    </tr>\n",
       "  </tbody>\n",
       "</table>\n",
       "<p>135 rows × 5 columns</p>\n",
       "</div>"
      ],
      "text/plain": [
       "           rsID continent  nan_count  iHS_std  iHS_mean\n",
       "0    rs10875612       AFR          0      NaN -0.838705\n",
       "1    rs10875612       AMR          0      NaN -1.248393\n",
       "2    rs10875612       EAS          0      NaN -0.551481\n",
       "3    rs10875612       EUR          0      NaN -0.801984\n",
       "4    rs10875612       SAS          0      NaN -0.110292\n",
       "..          ...       ...        ...      ...       ...\n",
       "130   rs9969232       AFR          0      NaN -4.337790\n",
       "131   rs9969232       AMR          0      NaN -1.635387\n",
       "132   rs9969232       EAS          0      NaN -2.718750\n",
       "133   rs9969232       EUR          0      NaN -0.572404\n",
       "134   rs9969232       SAS          0      NaN -2.241014\n",
       "\n",
       "[135 rows x 5 columns]"
      ]
     },
     "execution_count": 46,
     "metadata": {},
     "output_type": "execute_result"
    }
   ],
   "source": [
    "iHS_scored = iHS_scored.groupby(['rsID', 'continent']).agg(\n",
    "    nan_count = ('iHS_mean', lambda x: x.isna().sum()),\n",
    "    iHS_std = ('iHS_mean', 'std'),\n",
    "    iHS_mean = ('iHS_mean', 'mean')\n",
    ").reset_index()\n",
    "iHS_scored"
   ]
  },
  {
   "cell_type": "code",
   "execution_count": 47,
   "id": "1195e46d-9a1c-4471-8b86-1061ead4cff2",
   "metadata": {},
   "outputs": [],
   "source": [
    "Tajima_scores = pd.read_csv(\"../results/tajimas_d_results.csv\",header=1)\n",
    "Tajima_scores = Tajima_scores.rename(columns={Tajima_scores.columns[0]: 'rsID'})\n",
    "Tajima_scores = Tajima_scores.melt(id_vars='rsID', var_name='continent', value_name='Tajima_score')"
   ]
  },
  {
   "cell_type": "code",
   "execution_count": 48,
   "id": "0ed2223e-90ad-4d0d-86d6-5d61c41afda1",
   "metadata": {},
   "outputs": [
    {
     "data": {
      "text/plain": [
       "True"
      ]
     },
     "execution_count": 48,
     "metadata": {},
     "output_type": "execute_result"
    }
   ],
   "source": [
    "sorted(Tajima_scores[\"rsID\"].unique()) == sorted(iHS_scored[\"rsID\"].unique())"
   ]
  },
  {
   "cell_type": "code",
   "execution_count": 49,
   "id": "98fdd4fd-a518-44bc-b938-39ee1868c275",
   "metadata": {},
   "outputs": [],
   "source": [
    "merged_results = pd.merge(iHS_scored, Tajima_scores, on=['rsID', 'continent'], how='inner')\n",
    "merged_results\n",
    "merged_results.to_csv('../results/merged_results.csv', index=False)"
   ]
  },
  {
   "cell_type": "code",
   "execution_count": 50,
   "id": "4dd971e7-c005-4e47-918e-453dab917290",
   "metadata": {},
   "outputs": [
    {
     "name": "stdout",
     "output_type": "stream",
     "text": [
      "              iHS_mean  Tajima_score\n",
      "iHS_mean      1.000000      0.004269\n",
      "Tajima_score  0.004269      1.000000\n"
     ]
    }
   ],
   "source": [
    "sns.scatterplot(data=merged_results, x='iHS_mean', y='Tajima_score', hue='continent')\n",
    "plt.xlabel('iHS Score')\n",
    "plt.ylabel('Tajima’s D')\n",
    "plt.title('Comparison of iHS and Tajima’s D scores')\n",
    "plt.savefig(\"../results/comparison_iHS_Tajima_D.png\", dpi=300, bbox_inches='tight')\n",
    "plt.close()\n",
    "\n",
    "\n",
    "clean_df = merged_results[['iHS_mean', 'Tajima_score']].dropna()\n",
    "corr = clean_df.corr(method='spearman')\n",
    "print(corr)"
   ]
  }
 ],
 "metadata": {
  "kernelspec": {
   "display_name": "Python 3 (ipykernel)",
   "language": "python",
   "name": "python3"
  },
  "language_info": {
   "codemirror_mode": {
    "name": "ipython",
    "version": 3
   },
   "file_extension": ".py",
   "mimetype": "text/x-python",
   "name": "python",
   "nbconvert_exporter": "python",
   "pygments_lexer": "ipython3",
   "version": "3.12.7"
  },
  "widgets": {
   "application/vnd.jupyter.widget-state+json": {
    "state": {},
    "version_major": 2,
    "version_minor": 0
   }
  }
 },
 "nbformat": 4,
 "nbformat_minor": 5
}
